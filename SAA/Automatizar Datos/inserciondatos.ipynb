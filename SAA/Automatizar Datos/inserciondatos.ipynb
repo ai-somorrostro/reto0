{
 "cells": [
  {
   "cell_type": "markdown",
   "metadata": {
    "id": "d8aGvXRRvTAW"
   },
   "source": [
    "## APLICACION PARA CREAR LA BASE DE DE DATOS"
   ]
  },
  {
   "cell_type": "code",
   "execution_count": null,
   "metadata": {
    "id": "biliBjO2wT_q"
   },
   "outputs": [],
   "source": [
    "# =============================================================================\n",
    "# PROGRAMA 1: CREADOR DE LA BASE DE DATOS\n",
    "# =============================================================================\n",
    "\n",
    "from sqlalchemy import create_engine, text\n",
    "import urllib\n",
    "\n",
    "# --- Parámetros de conexión ---\n",
    "SERVER_NAME = r'IBAI\\SQLEXPRESS'\n",
    "DB_TO_CREATE = 'RETO0'\n",
    "SYSTEM_DB = 'master'  # Conectarse a 'master' para crear otras bases de datos\n",
    "\n",
    "# --- Conexión al servidor ---\n",
    "engine = None\n",
    "try:\n",
    "    connection_string = (\n",
    "        f\"DRIVER={{ODBC Driver 17 for SQL Server}};\"\n",
    "        f\"SERVER={SERVER_NAME};\"\n",
    "        f\"DATABASE={SYSTEM_DB};\"\n",
    "        f\"Trusted_Connection=yes;\"\n",
    "    )\n",
    "    quoted_conn_str = urllib.parse.quote_plus(connection_string)\n",
    "    engine = create_engine(f\"mssql+pyodbc:///?odbc_connect={quoted_conn_str}\")\n",
    "\n",
    "    print(f\"✅ Conexión exitosa con el servidor '{SERVER_NAME}' (usando la BBDD 'master').\")\n",
    "\n",
    "except Exception as e:\n",
    "    print(f\"❌ ERROR: No se pudo conectar al servidor. Verifica el nombre del servidor y que esté en ejecución.\")\n",
    "    print(f\"   Detalle del error: {e}\")\n",
    "\n",
    "# --- Ejecución del comando para crear la base de datos ---\n",
    "if engine is not None:\n",
    "    try:\n",
    "        sql_create_db_command = f\"\"\"\n",
    "        IF NOT EXISTS (SELECT name FROM sys.databases WHERE name = N'{DB_TO_CREATE}')\n",
    "        BEGIN\n",
    "            CREATE DATABASE [{DB_TO_CREATE}];\n",
    "        END;\n",
    "        \"\"\"\n",
    "        with engine.connect() as connection:\n",
    "            connection.execution_options(isolation_level=\"AUTOCOMMIT\").execute(text(sql_create_db_command))\n",
    "\n",
    "        print(f\"✔️ ¡Éxito! La base de datos '{DB_TO_CREATE}' ha sido creada (o ya existía).\")\n",
    "\n",
    "    except Exception as e:\n",
    "        print(f\"❌ ERROR durante la creación de la base de datos: {e}\")"
   ]
  },
  {
   "cell_type": "markdown",
   "metadata": {
    "id": "Coul28Bets4y"
   },
   "source": [
    "## APLICACION PARA BORRAR LAS TABLAS"
   ]
  },
  {
   "cell_type": "code",
   "execution_count": null,
   "metadata": {
    "id": "-CmC723utsot"
   },
   "outputs": [],
   "source": [
    "# =============================================================================\n",
    "# PROGRAMA 2: BORRADOR DE TABLAS\n",
    "# =============================================================================\n",
    "\n",
    "from sqlalchemy import create_engine, text\n",
    "import urllib\n",
    "\n",
    "# --- Parámetros de conexión ---\n",
    "SERVER_NAME = r'IBAI\\SQLEXPRESS'\n",
    "DATABASE_NAME = 'RETO0'  # Base de datos actualizada\n",
    "\n",
    "# --- Conexión a la base de datos RETO0 ---\n",
    "try:\n",
    "    connection_string = (\n",
    "        f\"DRIVER={{ODBC Driver 17 for SQL Server}};\"\n",
    "        f\"SERVER={SERVER_NAME};\"\n",
    "        f\"DATABASE={DATABASE_NAME};\"\n",
    "        f\"Trusted_Connection=yes;\"\n",
    "    )\n",
    "    quoted_conn_str = urllib.parse.quote_plus(connection_string)\n",
    "    engine = create_engine(f\"mssql+pyodbc:///?odbc_connect={quoted_conn_str}\")\n",
    "\n",
    "    print(f\"✅ Conexión exitosa con la BBDD '{DATABASE_NAME}' para borrar tablas.\")\n",
    "\n",
    "    # --- Ejecutar comandos SQL para borrar las tablas ---\n",
    "    with engine.connect() as connection:\n",
    "        print(\"\\n🔄 Intentando borrar las tablas...\")\n",
    "\n",
    "        connection.execute(text(\"DROP TABLE IF EXISTS stocks\"))\n",
    "        print(\"   -> Tabla 'stocks' borrada con éxito (o no existía).\")\n",
    "\n",
    "        connection.execute(text(\"DROP TABLE IF EXISTS cryptomonedas\"))\n",
    "        print(\"   -> Tabla 'cryptomonedas' borrada con éxito (o no existía).\")\n",
    "\n",
    "        connection.commit()\n",
    "\n",
    "    print(\"\\n🏁 Proceso de borrado finalizado.\")\n",
    "\n",
    "except Exception as e:\n",
    "    print(f\"❌ ERROR durante el proceso de borrado: {e}\")"
   ]
  },
  {
   "cell_type": "markdown",
   "metadata": {
    "id": "V_ilEhw3t0LW"
   },
   "source": [
    "## APLICACION PARA CREAR LAS TABLAS"
   ]
  },
  {
   "cell_type": "code",
   "execution_count": null,
   "metadata": {
    "id": "fRhgNYQ1t5dn"
   },
   "outputs": [],
   "source": [
    "# =============================================================================\n",
    "# PROGRAMA 3: CREADOR DE ESTRUCTURA DE TABLAS (VACÍAS)\n",
    "# =============================================================================\n",
    "import pandas as pd\n",
    "from sqlalchemy import create_engine\n",
    "import urllib\n",
    "\n",
    "SERVER_NAME = r'IBAI\\SQLEXPRESS'\n",
    "DATABASE_NAME = 'RETO0'\n",
    "\n",
    "try:\n",
    "    connection_string = f\"DRIVER={{ODBC Driver 17 for SQL Server}};SERVER={SERVER_NAME};DATABASE={DATABASE_NAME};Trusted_Connection=yes;\"\n",
    "    quoted_conn_str = urllib.parse.quote_plus(connection_string)\n",
    "    engine = create_engine(f\"mssql+pyodbc:///?odbc_connect={quoted_conn_str}\")\n",
    "    print(f\"✅ Conexión exitosa con la BBDD '{DATABASE_NAME}' para crear estructuras.\")\n",
    "\n",
    "    def crear_tabla_vacia_desde_csv(ruta_csv, nombre_tabla):\n",
    "        print(f\"\\n🔄 Creando estructura para la tabla '{nombre_tabla}'...\")\n",
    "        # Leemos el CSV para que pandas infiera el esquema (columnas y tipos)\n",
    "        df_esquema = pd.read_csv(ruta_csv).head(0)\n",
    "        # Creamos la tabla usando el esquema vacío. 'replace' asegura que se cree limpia.\n",
    "        df_esquema.to_sql(nombre_tabla, engine, if_exists='replace', index=False)\n",
    "        print(f\"✔️ ¡Éxito! La tabla '{nombre_tabla}' ha sido creada vacía.\")\n",
    "\n",
    "    print(\"\\n🚀 INICIANDO EL SCRIPT DE CREACIÓN DE ESTRUCTURAS...\")\n",
    "    crear_tabla_vacia_desde_csv('stocks.csv', 'stocks')\n",
    "    crear_tabla_vacia_desde_csv('cryptocurrency.csv', 'cryptomonedas')\n",
    "    print(\"\\n🏁 Proceso de creación de estructuras finalizado.\")\n",
    "\n",
    "except Exception as e:\n",
    "    print(f\"❌ ERROR: {e}\")"
   ]
  },
  {
   "cell_type": "markdown",
   "metadata": {
    "id": "t5k5CPujt7av"
   },
   "source": [
    "## APLICACION PARA INSERTAR DATOS"
   ]
  },
  {
   "cell_type": "code",
   "execution_count": 1,
   "metadata": {
    "id": "fCRWJZrQsj7o"
   },
   "outputs": [
    {
     "name": "stdout",
     "output_type": "stream",
     "text": [
      "✅ Conexión exitosa con la BBDD 'RETO0' para insertar datos.\n",
      "\n",
      "🚀 INICIANDO EL SCRIPT DE INSERCIÓN DE DATOS...\n",
      "\n",
      "🔄 Insertando datos en la tabla 'stocks'...\n",
      "   -> Vaciando tabla 'stocks'...\n",
      "✔️ ¡Éxito! 156.878 filas insertadas en 'stocks'.\n",
      "\n",
      "🔄 Insertando datos en la tabla 'cryptomonedas'...\n",
      "   -> Vaciando tabla 'cryptomonedas'...\n",
      "✔️ ¡Éxito! 97.846 filas insertadas en 'cryptomonedas'.\n",
      "\n",
      "🏁 Proceso de inserción finalizado.\n"
     ]
    }
   ],
   "source": [
    "# =============================================================================\n",
    "# PROGRAMA 4: INSERCIÓN DE DATOS EN TABLAS EXISTENTES (VERSIÓN REVISADA)\n",
    "# =============================================================================\n",
    "import pandas as pd\n",
    "from sqlalchemy import create_engine, text\n",
    "import urllib\n",
    "\n",
    "SERVER_NAME = r'IBAI\\SQLEXPRESS'\n",
    "DATABASE_NAME = 'RETO0'\n",
    "\n",
    "try:\n",
    "    connection_string = f\"DRIVER={{ODBC Driver 17 for SQL Server}};SERVER={SERVER_NAME};DATABASE={DATABASE_NAME};Trusted_Connection=yes;\"\n",
    "    quoted_conn_str = urllib.parse.quote_plus(connection_string)\n",
    "    engine = create_engine(f\"mssql+pyodbc:///?odbc_connect={quoted_conn_str}\")\n",
    "    print(f\"✅ Conexión exitosa con la BBDD '{DATABASE_NAME}' para insertar datos.\")\n",
    "\n",
    "    def insertar_datos_en_tabla_existente(ruta_csv, nombre_tabla):\n",
    "        print(f\"\\n🔄 Insertando datos en la tabla '{nombre_tabla}'...\")\n",
    "\n",
    "        # --- PASO 1: VACIAR LA TABLA (MÉTODO MÁS ROBUSTO) ---\n",
    "        # Nos conectamos y ejecutamos TRUNCATE con autocommit para asegurar que se complete inmediatamente.\n",
    "        with engine.connect() as connection:\n",
    "            print(f\"   -> Vaciando tabla '{nombre_tabla}'...\")\n",
    "            connection.execution_options(isolation_level=\"AUTOCOMMIT\").execute(text(f\"TRUNCATE TABLE {nombre_tabla}\"))\n",
    "\n",
    "        # --- PASO 2: INSERTAR LOS NUEVOS DATOS ---\n",
    "        # Leemos el CSV y lo añadimos a la tabla ya existente y vacía.\n",
    "        # if_exists='append' es correcto aquí porque la tabla ya está vacía.\n",
    "        df_datos = pd.read_csv(ruta_csv)\n",
    "        df_datos.to_sql(nombre_tabla, engine, if_exists='append', index=False)\n",
    "        print(f\"✔️ ¡Éxito! {len(df_datos):,} filas insertadas en '{nombre_tabla}'.\".replace(',', '.'))\n",
    "\n",
    "    print(\"\\n🚀 INICIANDO EL SCRIPT DE INSERCIÓN DE DATOS...\")\n",
    "    insertar_datos_en_tabla_existente('stocks.csv', 'stocks')\n",
    "    insertar_datos_en_tabla_existente('cryptocurrency.csv', 'cryptomonedas')\n",
    "    print(\"\\n🏁 Proceso de inserción finalizado.\")\n",
    "\n",
    "except Exception as e:\n",
    "    print(f\"❌ ERROR: {e}\")"
   ]
  },
  {
   "cell_type": "markdown",
   "metadata": {
    "id": "gNz4Xzb7w2E6"
   },
   "source": [
    "## APLICACION PARA CREAR LAS TABLAS E INSERTAR DATOS A LA VEZ"
   ]
  },
  {
   "cell_type": "code",
   "execution_count": null,
   "metadata": {
    "id": "oOdQEmOLw6Wj"
   },
   "outputs": [],
   "source": [
    "# =============================================================================\n",
    "# PROGRAMA 3: CREADOR DE TABLAS E INSERCIÓN DE DATOS DESDE CSV\n",
    "# =============================================================================\n",
    "\n",
    "import pandas as pd\n",
    "from sqlalchemy import create_engine\n",
    "import urllib\n",
    "\n",
    "# --- Parámetros de conexión ---\n",
    "SERVER_NAME = r'IBAI\\SQLEXPRESS'\n",
    "DATABASE_NAME = 'RETO0'  # Base de datos actualizada\n",
    "\n",
    "# --- Conexión a la base de datos RETO0 ---\n",
    "try:\n",
    "    connection_string = (\n",
    "        f\"DRIVER={{ODBC Driver 17 for SQL Server}};\"\n",
    "        f\"SERVER={SERVER_NAME};\"\n",
    "        f\"DATABASE={DATABASE_NAME};\"\n",
    "        f\"Trusted_Connection=yes;\"\n",
    "    )\n",
    "    quoted_conn_str = urllib.parse.quote_plus(connection_string)\n",
    "    engine = create_engine(f\"mssql+pyodbc:///?odbc_connect={quoted_conn_str}\")\n",
    "    print(f\"✅ Conexión exitosa con la BBDD '{DATABASE_NAME}' para crear/cargar tablas.\")\n",
    "except Exception as e:\n",
    "    print(f\"❌ ERROR: No se pudo establecer la conexión: {e}\")\n",
    "    engine = None\n",
    "\n",
    "# --- Función de carga de datos ---\n",
    "def cargar_csv_a_sql(ruta_archivo_csv, nombre_tabla_destino):\n",
    "    if engine is None:\n",
    "        return\n",
    "    try:\n",
    "        print(f\"\\n🔄 Procesando '{ruta_archivo_csv}'...\")\n",
    "        df = pd.read_csv(ruta_archivo_csv)\n",
    "        print(f\"   -> Lectura completada: {len(df):,} filas.\".replace(',', '.'))\n",
    "        print(f\"   -> Creando/cargando la tabla '{nombre_tabla_destino}'...\")\n",
    "        df.to_sql(nombre_tabla_destino, engine, if_exists='replace', index=False)\n",
    "        print(f\"✔️ ¡Éxito! La tabla '{nombre_tabla_destino}' ha sido creada y los datos cargados.\")\n",
    "    except Exception as e:\n",
    "        print(f\"❌ ERROR durante la carga de '{ruta_archivo_csv}': {e}\")\n",
    "\n",
    "# --- Ejecución del proceso de creación e inserción ---\n",
    "if __name__ == \"__main__\" and engine is not None:\n",
    "    print(\"\\n🚀 INICIANDO EL SCRIPT DE CREACIÓN/CARGA DE TABLAS...\")\n",
    "    cargar_csv_a_sql('stocks.csv', 'stocks')\n",
    "    cargar_csv_a_sql('cryptocurrency.csv', 'cryptomonedas')\n",
    "    print(\"\\n🏁 Proceso de carga finalizado. Puedes verificar las tablas en SQL Server.\")"
   ]
  }
 ],
 "metadata": {
  "colab": {
   "authorship_tag": "ABX9TyMi6FDmvma31JxnbWmK/ZMf",
   "collapsed_sections": [
    "d8aGvXRRvTAW",
    "Coul28Bets4y",
    "V_ilEhw3t0LW",
    "gNz4Xzb7w2E6"
   ],
   "provenance": []
  },
  "kernelspec": {
   "display_name": "Python [conda env:base] *",
   "language": "python",
   "name": "conda-base-py"
  },
  "language_info": {
   "codemirror_mode": {
    "name": "ipython",
    "version": 3
   },
   "file_extension": ".py",
   "mimetype": "text/x-python",
   "name": "python",
   "nbconvert_exporter": "python",
   "pygments_lexer": "ipython3",
   "version": "3.13.5"
  }
 },
 "nbformat": 4,
 "nbformat_minor": 4
}
